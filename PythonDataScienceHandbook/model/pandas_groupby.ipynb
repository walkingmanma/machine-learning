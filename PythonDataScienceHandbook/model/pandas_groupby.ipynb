{
 "cells": [
  {
   "cell_type": "code",
   "execution_count": 1,
   "metadata": {},
   "outputs": [],
   "source": [
    "import numpy as np\n",
    "import pandas as pd"
   ]
  },
  {
   "cell_type": "code",
   "execution_count": 22,
   "metadata": {},
   "outputs": [
    {
     "data": {
      "text/html": [
       "<div>\n",
       "<style scoped>\n",
       "    .dataframe tbody tr th:only-of-type {\n",
       "        vertical-align: middle;\n",
       "    }\n",
       "\n",
       "    .dataframe tbody tr th {\n",
       "        vertical-align: top;\n",
       "    }\n",
       "\n",
       "    .dataframe thead th {\n",
       "        text-align: right;\n",
       "    }\n",
       "</style>\n",
       "<table border=\"1\" class=\"dataframe\">\n",
       "  <thead>\n",
       "    <tr style=\"text-align: right;\">\n",
       "      <th></th>\n",
       "      <th>key1</th>\n",
       "      <th>A</th>\n",
       "      <th>B</th>\n",
       "    </tr>\n",
       "  </thead>\n",
       "  <tbody>\n",
       "    <tr>\n",
       "      <th>0</th>\n",
       "      <td>K0</td>\n",
       "      <td>A0</td>\n",
       "      <td>B0</td>\n",
       "    </tr>\n",
       "    <tr>\n",
       "      <th>1</th>\n",
       "      <td>K1</td>\n",
       "      <td>A1</td>\n",
       "      <td>B1</td>\n",
       "    </tr>\n",
       "    <tr>\n",
       "      <th>2</th>\n",
       "      <td>K2</td>\n",
       "      <td>A2</td>\n",
       "      <td>B2</td>\n",
       "    </tr>\n",
       "    <tr>\n",
       "      <th>3</th>\n",
       "      <td>K3</td>\n",
       "      <td>A3</td>\n",
       "      <td>B3</td>\n",
       "    </tr>\n",
       "  </tbody>\n",
       "</table>\n",
       "</div>"
      ],
      "text/plain": [
       "  key1   A   B\n",
       "0   K0  A0  B0\n",
       "1   K1  A1  B1\n",
       "2   K2  A2  B2\n",
       "3   K3  A3  B3"
      ]
     },
     "execution_count": 22,
     "metadata": {},
     "output_type": "execute_result"
    }
   ],
   "source": [
    "left = pd.DataFrame({'key1': ['K0', 'K1', 'K2', 'K3'],\n",
    "                     'A': ['A0', 'A1', 'A2', 'A3'],                    \n",
    "                     'B': ['B0', 'B1', 'B2', 'B3']})\n",
    "left"
   ]
  },
  {
   "cell_type": "code",
   "execution_count": 18,
   "metadata": {},
   "outputs": [
    {
     "data": {
      "text/html": [
       "<div>\n",
       "<style scoped>\n",
       "    .dataframe tbody tr th:only-of-type {\n",
       "        vertical-align: middle;\n",
       "    }\n",
       "\n",
       "    .dataframe tbody tr th {\n",
       "        vertical-align: top;\n",
       "    }\n",
       "\n",
       "    .dataframe thead th {\n",
       "        text-align: right;\n",
       "    }\n",
       "</style>\n",
       "<table border=\"1\" class=\"dataframe\">\n",
       "  <thead>\n",
       "    <tr style=\"text-align: right;\">\n",
       "      <th></th>\n",
       "      <th>key2</th>\n",
       "      <th>C</th>\n",
       "      <th>D</th>\n",
       "    </tr>\n",
       "  </thead>\n",
       "  <tbody>\n",
       "    <tr>\n",
       "      <th>0</th>\n",
       "      <td>K0</td>\n",
       "      <td>C0</td>\n",
       "      <td>D0</td>\n",
       "    </tr>\n",
       "    <tr>\n",
       "      <th>1</th>\n",
       "      <td>K1</td>\n",
       "      <td>C1</td>\n",
       "      <td>D1</td>\n",
       "    </tr>\n",
       "    <tr>\n",
       "      <th>2</th>\n",
       "      <td>K2</td>\n",
       "      <td>C2</td>\n",
       "      <td>D2</td>\n",
       "    </tr>\n",
       "  </tbody>\n",
       "</table>\n",
       "</div>"
      ],
      "text/plain": [
       "  key2   C   D\n",
       "0   K0  C0  D0\n",
       "1   K1  C1  D1\n",
       "2   K2  C2  D2"
      ]
     },
     "execution_count": 18,
     "metadata": {},
     "output_type": "execute_result"
    }
   ],
   "source": [
    "right = pd.DataFrame({'key2': ['K0', 'K1', 'K2'],\n",
    "                       'C': ['C0', 'C1', 'C2'],\n",
    "                         'D': ['D0', 'D1', 'D2']})\n",
    "right"
   ]
  },
  {
   "cell_type": "code",
   "execution_count": 20,
   "metadata": {},
   "outputs": [],
   "source": [
    "result = pd.merge(left, right, left_on='key1',right_on='key2',how='left',suffixes=('_x','_y'))"
   ]
  },
  {
   "cell_type": "code",
   "execution_count": 26,
   "metadata": {},
   "outputs": [],
   "source": [
    "list1 = result['key1']"
   ]
  },
  {
   "cell_type": "code",
   "execution_count": 33,
   "metadata": {},
   "outputs": [],
   "source": [
    "a = [1,2,3,34]\n",
    "b = [4,5,656]"
   ]
  },
  {
   "cell_type": "code",
   "execution_count": 34,
   "metadata": {},
   "outputs": [],
   "source": [
    "xx,yy = np.meshgrid(a,b)"
   ]
  },
  {
   "cell_type": "code",
   "execution_count": 35,
   "metadata": {},
   "outputs": [
    {
     "data": {
      "text/plain": [
       "array([[ 1,  2,  3, 34],\n",
       "       [ 1,  2,  3, 34],\n",
       "       [ 1,  2,  3, 34]])"
      ]
     },
     "execution_count": 35,
     "metadata": {},
     "output_type": "execute_result"
    }
   ],
   "source": [
    "xx"
   ]
  },
  {
   "cell_type": "code",
   "execution_count": 36,
   "metadata": {},
   "outputs": [
    {
     "data": {
      "text/plain": [
       "array([[  4,   4,   4,   4],\n",
       "       [  5,   5,   5,   5],\n",
       "       [656, 656, 656, 656]])"
      ]
     },
     "execution_count": 36,
     "metadata": {},
     "output_type": "execute_result"
    }
   ],
   "source": [
    "yy"
   ]
  },
  {
   "cell_type": "code",
   "execution_count": 45,
   "metadata": {},
   "outputs": [
    {
     "data": {
      "text/plain": [
       "(12,)"
      ]
     },
     "execution_count": 45,
     "metadata": {},
     "output_type": "execute_result"
    }
   ],
   "source": [
    "xx.ravel()\n",
    "yy.ravel()\n",
    "[xx.ravel(),yy.ravel()]\n",
    "\n",
    "xx.ravel().shape"
   ]
  },
  {
   "cell_type": "code",
   "execution_count": 42,
   "metadata": {},
   "outputs": [
    {
     "data": {
      "text/plain": [
       "array([[  1,   4],\n",
       "       [  2,   4],\n",
       "       [  3,   4],\n",
       "       [ 34,   4],\n",
       "       [  1,   5],\n",
       "       [  2,   5],\n",
       "       [  3,   5],\n",
       "       [ 34,   5],\n",
       "       [  1, 656],\n",
       "       [  2, 656],\n",
       "       [  3, 656],\n",
       "       [ 34, 656]])"
      ]
     },
     "execution_count": 42,
     "metadata": {},
     "output_type": "execute_result"
    }
   ],
   "source": [
    "np.c_[xx.ravel(),yy.ravel()]"
   ]
  },
  {
   "cell_type": "code",
   "execution_count": 44,
   "metadata": {},
   "outputs": [
    {
     "data": {
      "text/plain": [
       "range(0, 2)"
      ]
     },
     "execution_count": 44,
     "metadata": {},
     "output_type": "execute_result"
    }
   ],
   "source": [
    "range(2)"
   ]
  },
  {
   "cell_type": "code",
   "execution_count": 55,
   "metadata": {},
   "outputs": [
    {
     "data": {
      "text/plain": [
       "'this is a test for text format madongs'"
      ]
     },
     "execution_count": 55,
     "metadata": {},
     "output_type": "execute_result"
    }
   ],
   "source": [
    "'this is a test for text format %s' % 'madongs'"
   ]
  },
  {
   "cell_type": "code",
   "execution_count": 56,
   "metadata": {},
   "outputs": [],
   "source": [
    "df = pd.DataFrame({'A' : ['foo', 'bar', 'foo', 'bar',\n",
    "   ...:                           'foo', 'bar', 'foo', 'foo'],\n",
    "   ...:                    'B' : ['one', 'one', 'two', 'three',\n",
    "   ...:                           'two', 'two', 'one', 'three'],\n",
    "   ...:                    'C' : np.random.randn(8),\n",
    "   ...:                    'D' : np.random.randn(8)})\n",
    "   ...: \n"
   ]
  },
  {
   "cell_type": "code",
   "execution_count": 57,
   "metadata": {},
   "outputs": [
    {
     "data": {
      "text/html": [
       "<div>\n",
       "<style scoped>\n",
       "    .dataframe tbody tr th:only-of-type {\n",
       "        vertical-align: middle;\n",
       "    }\n",
       "\n",
       "    .dataframe tbody tr th {\n",
       "        vertical-align: top;\n",
       "    }\n",
       "\n",
       "    .dataframe thead th {\n",
       "        text-align: right;\n",
       "    }\n",
       "</style>\n",
       "<table border=\"1\" class=\"dataframe\">\n",
       "  <thead>\n",
       "    <tr style=\"text-align: right;\">\n",
       "      <th></th>\n",
       "      <th>A</th>\n",
       "      <th>B</th>\n",
       "      <th>C</th>\n",
       "      <th>D</th>\n",
       "    </tr>\n",
       "  </thead>\n",
       "  <tbody>\n",
       "    <tr>\n",
       "      <th>0</th>\n",
       "      <td>foo</td>\n",
       "      <td>one</td>\n",
       "      <td>-1.145485</td>\n",
       "      <td>-1.404833</td>\n",
       "    </tr>\n",
       "    <tr>\n",
       "      <th>1</th>\n",
       "      <td>bar</td>\n",
       "      <td>one</td>\n",
       "      <td>0.668148</td>\n",
       "      <td>-0.228469</td>\n",
       "    </tr>\n",
       "    <tr>\n",
       "      <th>2</th>\n",
       "      <td>foo</td>\n",
       "      <td>two</td>\n",
       "      <td>1.662093</td>\n",
       "      <td>-0.395726</td>\n",
       "    </tr>\n",
       "    <tr>\n",
       "      <th>3</th>\n",
       "      <td>bar</td>\n",
       "      <td>three</td>\n",
       "      <td>-1.195800</td>\n",
       "      <td>-1.329239</td>\n",
       "    </tr>\n",
       "    <tr>\n",
       "      <th>4</th>\n",
       "      <td>foo</td>\n",
       "      <td>two</td>\n",
       "      <td>-1.093029</td>\n",
       "      <td>-3.220682</td>\n",
       "    </tr>\n",
       "    <tr>\n",
       "      <th>5</th>\n",
       "      <td>bar</td>\n",
       "      <td>two</td>\n",
       "      <td>-1.451385</td>\n",
       "      <td>-0.010470</td>\n",
       "    </tr>\n",
       "    <tr>\n",
       "      <th>6</th>\n",
       "      <td>foo</td>\n",
       "      <td>one</td>\n",
       "      <td>-0.932404</td>\n",
       "      <td>-0.336586</td>\n",
       "    </tr>\n",
       "    <tr>\n",
       "      <th>7</th>\n",
       "      <td>foo</td>\n",
       "      <td>three</td>\n",
       "      <td>-1.085655</td>\n",
       "      <td>0.726976</td>\n",
       "    </tr>\n",
       "  </tbody>\n",
       "</table>\n",
       "</div>"
      ],
      "text/plain": [
       "     A      B         C         D\n",
       "0  foo    one -1.145485 -1.404833\n",
       "1  bar    one  0.668148 -0.228469\n",
       "2  foo    two  1.662093 -0.395726\n",
       "3  bar  three -1.195800 -1.329239\n",
       "4  foo    two -1.093029 -3.220682\n",
       "5  bar    two -1.451385 -0.010470\n",
       "6  foo    one -0.932404 -0.336586\n",
       "7  foo  three -1.085655  0.726976"
      ]
     },
     "execution_count": 57,
     "metadata": {},
     "output_type": "execute_result"
    }
   ],
   "source": [
    "df"
   ]
  },
  {
   "cell_type": "code",
   "execution_count": 112,
   "metadata": {},
   "outputs": [],
   "source": [
    "grouped = df.groupby(['A','B'])['C']"
   ]
  },
  {
   "cell_type": "code",
   "execution_count": 113,
   "metadata": {},
   "outputs": [
    {
     "data": {
      "text/plain": [
       "0   -1.145485\n",
       "1    0.668148\n",
       "2    1.662093\n",
       "3   -1.195800\n",
       "4   -1.093029\n",
       "5   -1.451385\n",
       "6   -0.932404\n",
       "7   -1.085655\n",
       "Name: C, dtype: float64"
      ]
     },
     "execution_count": 113,
     "metadata": {},
     "output_type": "execute_result"
    }
   ],
   "source": [
    "grouped.apply(lambda x:x)"
   ]
  },
  {
   "cell_type": "code",
   "execution_count": 114,
   "metadata": {},
   "outputs": [],
   "source": [
    "def f(group):\n",
    "    print(group.get_values())\n",
    "    print(group.name)\n",
    "    return pd.DataFrame({'original' : group,\n",
    "                           'demeaned' : group - group.mean()})"
   ]
  },
  {
   "cell_type": "code",
   "execution_count": 115,
   "metadata": {},
   "outputs": [
    {
     "name": "stdout",
     "output_type": "stream",
     "text": [
      "[0.66814842]\n",
      "('bar', 'one')\n",
      "[-1.19580042]\n",
      "('bar', 'three')\n",
      "[-1.45138495]\n",
      "('bar', 'two')\n",
      "[-1.14548461 -0.93240428]\n",
      "('foo', 'one')\n",
      "[-1.08565499]\n",
      "('foo', 'three')\n",
      "[ 1.66209282 -1.09302872]\n",
      "('foo', 'two')\n"
     ]
    },
    {
     "data": {
      "text/html": [
       "<div>\n",
       "<style scoped>\n",
       "    .dataframe tbody tr th:only-of-type {\n",
       "        vertical-align: middle;\n",
       "    }\n",
       "\n",
       "    .dataframe tbody tr th {\n",
       "        vertical-align: top;\n",
       "    }\n",
       "\n",
       "    .dataframe thead th {\n",
       "        text-align: right;\n",
       "    }\n",
       "</style>\n",
       "<table border=\"1\" class=\"dataframe\">\n",
       "  <thead>\n",
       "    <tr style=\"text-align: right;\">\n",
       "      <th></th>\n",
       "      <th>original</th>\n",
       "      <th>demeaned</th>\n",
       "    </tr>\n",
       "  </thead>\n",
       "  <tbody>\n",
       "    <tr>\n",
       "      <th>0</th>\n",
       "      <td>-1.145485</td>\n",
       "      <td>-0.106540</td>\n",
       "    </tr>\n",
       "    <tr>\n",
       "      <th>1</th>\n",
       "      <td>0.668148</td>\n",
       "      <td>0.000000</td>\n",
       "    </tr>\n",
       "    <tr>\n",
       "      <th>2</th>\n",
       "      <td>1.662093</td>\n",
       "      <td>1.377561</td>\n",
       "    </tr>\n",
       "    <tr>\n",
       "      <th>3</th>\n",
       "      <td>-1.195800</td>\n",
       "      <td>0.000000</td>\n",
       "    </tr>\n",
       "    <tr>\n",
       "      <th>4</th>\n",
       "      <td>-1.093029</td>\n",
       "      <td>-1.377561</td>\n",
       "    </tr>\n",
       "    <tr>\n",
       "      <th>5</th>\n",
       "      <td>-1.451385</td>\n",
       "      <td>0.000000</td>\n",
       "    </tr>\n",
       "    <tr>\n",
       "      <th>6</th>\n",
       "      <td>-0.932404</td>\n",
       "      <td>0.106540</td>\n",
       "    </tr>\n",
       "    <tr>\n",
       "      <th>7</th>\n",
       "      <td>-1.085655</td>\n",
       "      <td>0.000000</td>\n",
       "    </tr>\n",
       "  </tbody>\n",
       "</table>\n",
       "</div>"
      ],
      "text/plain": [
       "   original  demeaned\n",
       "0 -1.145485 -0.106540\n",
       "1  0.668148  0.000000\n",
       "2  1.662093  1.377561\n",
       "3 -1.195800  0.000000\n",
       "4 -1.093029 -1.377561\n",
       "5 -1.451385  0.000000\n",
       "6 -0.932404  0.106540\n",
       "7 -1.085655  0.000000"
      ]
     },
     "execution_count": 115,
     "metadata": {},
     "output_type": "execute_result"
    }
   ],
   "source": [
    "grouped.apply(f)"
   ]
  },
  {
   "cell_type": "markdown",
   "metadata": {},
   "source": [
    "## Groupby pol_no and alpha_id to got benefit type of rider"
   ]
  },
  {
   "cell_type": "code",
   "execution_count": 286,
   "metadata": {},
   "outputs": [],
   "source": [
    "benefitData = pd.read_csv('./benefit.csv')\n",
    "uwData = pd.read_csv('./uw_decision.csv')"
   ]
  },
  {
   "cell_type": "code",
   "execution_count": 287,
   "metadata": {},
   "outputs": [],
   "source": [
    "benefitDataCopy = benefitData.copy()\n",
    "uwDataCopy = uwData.copy()"
   ]
  },
  {
   "cell_type": "code",
   "execution_count": 288,
   "metadata": {},
   "outputs": [
    {
     "data": {
      "text/html": [
       "<div>\n",
       "<style scoped>\n",
       "    .dataframe tbody tr th:only-of-type {\n",
       "        vertical-align: middle;\n",
       "    }\n",
       "\n",
       "    .dataframe tbody tr th {\n",
       "        vertical-align: top;\n",
       "    }\n",
       "\n",
       "    .dataframe thead th {\n",
       "        text-align: right;\n",
       "    }\n",
       "</style>\n",
       "<table border=\"1\" class=\"dataframe\">\n",
       "  <thead>\n",
       "    <tr style=\"text-align: right;\">\n",
       "      <th></th>\n",
       "      <th>pol_no</th>\n",
       "      <th>alpha_id</th>\n",
       "      <th>rider</th>\n",
       "      <th>short_Name</th>\n",
       "      <th>phase_code</th>\n",
       "    </tr>\n",
       "  </thead>\n",
       "  <tbody>\n",
       "    <tr>\n",
       "      <th>0</th>\n",
       "      <td>M0929</td>\n",
       "      <td>992</td>\n",
       "      <td>0</td>\n",
       "      <td>madongdong1</td>\n",
       "      <td>2333</td>\n",
       "    </tr>\n",
       "    <tr>\n",
       "      <th>1</th>\n",
       "      <td>M0929</td>\n",
       "      <td>992</td>\n",
       "      <td>1</td>\n",
       "      <td>madongdong2</td>\n",
       "      <td>2334</td>\n",
       "    </tr>\n",
       "    <tr>\n",
       "      <th>2</th>\n",
       "      <td>M0929</td>\n",
       "      <td>992</td>\n",
       "      <td>1</td>\n",
       "      <td>madongdong3</td>\n",
       "      <td>2335</td>\n",
       "    </tr>\n",
       "    <tr>\n",
       "      <th>3</th>\n",
       "      <td>M0929</td>\n",
       "      <td>992</td>\n",
       "      <td>1</td>\n",
       "      <td>madongdong4</td>\n",
       "      <td>2336</td>\n",
       "    </tr>\n",
       "  </tbody>\n",
       "</table>\n",
       "</div>"
      ],
      "text/plain": [
       "  pol_no  alpha_id  rider   short_Name  phase_code\n",
       "0  M0929       992      0  madongdong1        2333\n",
       "1  M0929       992      1  madongdong2        2334\n",
       "2  M0929       992      1  madongdong3        2335\n",
       "3  M0929       992      1  madongdong4        2336"
      ]
     },
     "execution_count": 288,
     "metadata": {},
     "output_type": "execute_result"
    }
   ],
   "source": [
    "benefitDataCopy\n",
    "uwDataCopy"
   ]
  },
  {
   "cell_type": "code",
   "execution_count": 289,
   "metadata": {},
   "outputs": [],
   "source": [
    "uw = uwDataCopy.groupby(['pol_no','alpha_id','rider'])['short_Name','phase_code']"
   ]
  },
  {
   "cell_type": "code",
   "execution_count": 290,
   "metadata": {},
   "outputs": [],
   "source": [
    "groups = uw.groups"
   ]
  },
  {
   "cell_type": "code",
   "execution_count": null,
   "metadata": {},
   "outputs": [],
   "source": []
  },
  {
   "cell_type": "code",
   "execution_count": null,
   "metadata": {},
   "outputs": [],
   "source": []
  },
  {
   "cell_type": "code",
   "execution_count": 292,
   "metadata": {},
   "outputs": [],
   "source": [
    "class genetateRider():\n",
    "    def __init__(self,num):\n",
    "        self.rider = 'rider' + str(num)\n",
    "        self.phasecode = self.rider + '_phasecode'\n",
    "        self.decision = self.rider  + '_decision'\n",
    "        self.benefit = self.rider + '_benefit'\n",
    "        \n",
    "        \n",
    "    "
   ]
  },
  {
   "cell_type": "code",
   "execution_count": 293,
   "metadata": {},
   "outputs": [
    {
     "data": {
      "text/plain": [
       "'rider1_benefit'"
      ]
     },
     "execution_count": 293,
     "metadata": {},
     "output_type": "execute_result"
    }
   ],
   "source": [
    "genetateRider(1).benefit"
   ]
  },
  {
   "cell_type": "code",
   "execution_count": 294,
   "metadata": {},
   "outputs": [
    {
     "data": {
      "text/plain": [
       "rider1_benefit      1.0\n",
       "rider1_decision     NaN\n",
       "rider1_phasecode    NaN\n",
       "rider2_benefit      NaN\n",
       "rider2_decision     NaN\n",
       "rider2_phasecode    NaN\n",
       "rider3_benefit      NaN\n",
       "rider3_decision     NaN\n",
       "rider3_phasecode    NaN\n",
       "rider4_benefit      NaN\n",
       "rider4_decision     NaN\n",
       "rider4_phasecode    NaN\n",
       "rider5_benefit      NaN\n",
       "rider5_decision     NaN\n",
       "rider5_phasecode    NaN\n",
       "rider6_benefit      NaN\n",
       "rider6_decision     NaN\n",
       "rider6_phasecode    NaN\n",
       "rider7_benefit      NaN\n",
       "rider7_decision     NaN\n",
       "rider7_phasecode    NaN\n",
       "rider8_benefit      NaN\n",
       "rider8_decision     NaN\n",
       "rider8_phasecode    NaN\n",
       "rider9_benefit      NaN\n",
       "rider9_decision     NaN\n",
       "rider9_phasecode    NaN\n",
       "dtype: float64"
      ]
     },
     "execution_count": 294,
     "metadata": {},
     "output_type": "execute_result"
    }
   ],
   "source": [
    "riderList = ['rider1_benefit','rider1_decision','rider1_phasecode',\n",
    "            'rider2_benefit','rider2_decision','rider2_phasecode',\n",
    "            'rider3_benefit','rider3_decision','rider3_phasecode',\n",
    "            'rider4_benefit','rider4_decision','rider4_phasecode',\n",
    "            'rider5_benefit','rider5_decision','rider5_phasecode',\n",
    "            'rider6_benefit','rider6_decision','rider6_phasecode',\n",
    "            'rider7_benefit','rider7_decision','rider7_phasecode',\n",
    "            'rider8_benefit','rider8_decision','rider8_phasecode',\n",
    "            'rider9_benefit','rider9_decision','rider9_phasecode']\n",
    "tempSeries = pd.Series(index=riderList)\n",
    "formatedData = pd.DataFrame(columns=riderList)\n",
    "tempSeries['rider1_benefit'] = 1\n",
    "tempSeries"
   ]
  },
  {
   "cell_type": "code",
   "execution_count": 298,
   "metadata": {},
   "outputs": [
    {
     "name": "stdout",
     "output_type": "stream",
     "text": [
      "===========================('M0929', 992, 0)==============\n",
      "------2333------\n",
      "-----count----1-----\n",
      "   index benifit_life benefit_sg benefit_cancel\n",
      "0      0            Y        NaN            NaN\n",
      "===========================('M0929', 992, 1)==============\n",
      "------2334------\n",
      "-----count----1-----\n",
      "   index benifit_life benefit_sg benefit_cancel\n",
      "0      1            Y          Y              Y\n",
      "1      5          NaN          Y              Y\n",
      "------2335------\n",
      "-----count----2-----\n",
      "   index benifit_life benefit_sg benefit_cancel\n",
      "0      2            Y        NaN            NaN\n",
      "------2336------\n",
      "-----count----3-----\n",
      "   index benifit_life benefit_sg benefit_cancel\n",
      "0      3          NaN          Y            NaN\n",
      "1      4          NaN          Y            NaN\n"
     ]
    }
   ],
   "source": [
    "for g in groups:\n",
    "    \n",
    "    print('==========================='+str(g)+'==============')\n",
    "    \n",
    "    benefits = uw.get_group(g)\n",
    "  #  print(benefits['phase_code'])\n",
    "    phases = benefits['phase_code']\n",
    "  #  print(phases)\n",
    "    num = 1\n",
    "    tempSeries = pd.Series(index=riderList)\n",
    "\n",
    "    for phase in phases:\n",
    "        print('------'+str(phase)+'------')\n",
    "        print('-----count----'+str(num)+'-----')\n",
    "        benefit = benefitDataCopy[benefitDataCopy['phase_code'] == phase][['benifit_life','benefit_sg','benefit_cancel']].reset_index()\n",
    "        print(benefit)\n",
    "        tempSeries[genetateRider(num).benefit] = benefit['benifit_life'][0]\n",
    "        tempSeries[genetateRider(num).phasecode] = benefit['benefit_sg'][0]\n",
    "        tempSeries[genetateRider(num).decision] = benefit['benefit_cancel'][0]\n",
    "        num += 1\n",
    "    tempSeries.name = g\n",
    "    \n",
    "    formatedData = formatedData.append(tempSeries)"
   ]
  },
  {
   "cell_type": "code",
   "execution_count": 299,
   "metadata": {},
   "outputs": [
    {
     "data": {
      "text/plain": [
       "rider1_benefit        Y\n",
       "rider1_decision       Y\n",
       "rider1_phasecode      Y\n",
       "rider2_benefit        Y\n",
       "rider2_decision     NaN\n",
       "rider2_phasecode    NaN\n",
       "rider3_benefit      NaN\n",
       "rider3_decision     NaN\n",
       "rider3_phasecode      Y\n",
       "rider4_benefit      NaN\n",
       "rider4_decision     NaN\n",
       "rider4_phasecode    NaN\n",
       "rider5_benefit      NaN\n",
       "rider5_decision     NaN\n",
       "rider5_phasecode    NaN\n",
       "rider6_benefit      NaN\n",
       "rider6_decision     NaN\n",
       "rider6_phasecode    NaN\n",
       "rider7_benefit      NaN\n",
       "rider7_decision     NaN\n",
       "rider7_phasecode    NaN\n",
       "rider8_benefit      NaN\n",
       "rider8_decision     NaN\n",
       "rider8_phasecode    NaN\n",
       "rider9_benefit      NaN\n",
       "rider9_decision     NaN\n",
       "rider9_phasecode    NaN\n",
       "Name: (M0929, 992, 1), dtype: object"
      ]
     },
     "execution_count": 299,
     "metadata": {},
     "output_type": "execute_result"
    }
   ],
   "source": [
    "tempSeries"
   ]
  },
  {
   "cell_type": "code",
   "execution_count": 300,
   "metadata": {},
   "outputs": [
    {
     "data": {
      "text/html": [
       "<div>\n",
       "<style scoped>\n",
       "    .dataframe tbody tr th:only-of-type {\n",
       "        vertical-align: middle;\n",
       "    }\n",
       "\n",
       "    .dataframe tbody tr th {\n",
       "        vertical-align: top;\n",
       "    }\n",
       "\n",
       "    .dataframe thead th {\n",
       "        text-align: right;\n",
       "    }\n",
       "</style>\n",
       "<table border=\"1\" class=\"dataframe\">\n",
       "  <thead>\n",
       "    <tr style=\"text-align: right;\">\n",
       "      <th></th>\n",
       "      <th>rider1_benefit</th>\n",
       "      <th>rider1_decision</th>\n",
       "      <th>rider1_phasecode</th>\n",
       "      <th>rider2_benefit</th>\n",
       "      <th>rider2_decision</th>\n",
       "      <th>rider2_phasecode</th>\n",
       "      <th>rider3_benefit</th>\n",
       "      <th>rider3_decision</th>\n",
       "      <th>rider3_phasecode</th>\n",
       "      <th>rider4_benefit</th>\n",
       "      <th>...</th>\n",
       "      <th>rider6_phasecode</th>\n",
       "      <th>rider7_benefit</th>\n",
       "      <th>rider7_decision</th>\n",
       "      <th>rider7_phasecode</th>\n",
       "      <th>rider8_benefit</th>\n",
       "      <th>rider8_decision</th>\n",
       "      <th>rider8_phasecode</th>\n",
       "      <th>rider9_benefit</th>\n",
       "      <th>rider9_decision</th>\n",
       "      <th>rider9_phasecode</th>\n",
       "    </tr>\n",
       "  </thead>\n",
       "  <tbody>\n",
       "    <tr>\n",
       "      <th>(M0929, 992, 0)</th>\n",
       "      <td>Y</td>\n",
       "      <td>NaN</td>\n",
       "      <td>NaN</td>\n",
       "      <td>NaN</td>\n",
       "      <td>NaN</td>\n",
       "      <td>NaN</td>\n",
       "      <td>NaN</td>\n",
       "      <td>NaN</td>\n",
       "      <td>NaN</td>\n",
       "      <td>NaN</td>\n",
       "      <td>...</td>\n",
       "      <td>NaN</td>\n",
       "      <td>NaN</td>\n",
       "      <td>NaN</td>\n",
       "      <td>NaN</td>\n",
       "      <td>NaN</td>\n",
       "      <td>NaN</td>\n",
       "      <td>NaN</td>\n",
       "      <td>NaN</td>\n",
       "      <td>NaN</td>\n",
       "      <td>NaN</td>\n",
       "    </tr>\n",
       "    <tr>\n",
       "      <th>(M0929, 992, 1)</th>\n",
       "      <td>Y</td>\n",
       "      <td>Y</td>\n",
       "      <td>Y</td>\n",
       "      <td>Y</td>\n",
       "      <td>NaN</td>\n",
       "      <td>NaN</td>\n",
       "      <td>NaN</td>\n",
       "      <td>NaN</td>\n",
       "      <td>Y</td>\n",
       "      <td>NaN</td>\n",
       "      <td>...</td>\n",
       "      <td>NaN</td>\n",
       "      <td>NaN</td>\n",
       "      <td>NaN</td>\n",
       "      <td>NaN</td>\n",
       "      <td>NaN</td>\n",
       "      <td>NaN</td>\n",
       "      <td>NaN</td>\n",
       "      <td>NaN</td>\n",
       "      <td>NaN</td>\n",
       "      <td>NaN</td>\n",
       "    </tr>\n",
       "  </tbody>\n",
       "</table>\n",
       "<p>2 rows × 27 columns</p>\n",
       "</div>"
      ],
      "text/plain": [
       "                rider1_benefit rider1_decision rider1_phasecode  \\\n",
       "(M0929, 992, 0)              Y             NaN              NaN   \n",
       "(M0929, 992, 1)              Y               Y                Y   \n",
       "\n",
       "                rider2_benefit rider2_decision rider2_phasecode  \\\n",
       "(M0929, 992, 0)            NaN             NaN              NaN   \n",
       "(M0929, 992, 1)              Y             NaN              NaN   \n",
       "\n",
       "                rider3_benefit rider3_decision rider3_phasecode  \\\n",
       "(M0929, 992, 0)            NaN             NaN              NaN   \n",
       "(M0929, 992, 1)            NaN             NaN                Y   \n",
       "\n",
       "                rider4_benefit       ...        rider6_phasecode  \\\n",
       "(M0929, 992, 0)            NaN       ...                     NaN   \n",
       "(M0929, 992, 1)            NaN       ...                     NaN   \n",
       "\n",
       "                rider7_benefit rider7_decision rider7_phasecode  \\\n",
       "(M0929, 992, 0)            NaN             NaN              NaN   \n",
       "(M0929, 992, 1)            NaN             NaN              NaN   \n",
       "\n",
       "                rider8_benefit rider8_decision rider8_phasecode  \\\n",
       "(M0929, 992, 0)            NaN             NaN              NaN   \n",
       "(M0929, 992, 1)            NaN             NaN              NaN   \n",
       "\n",
       "                rider9_benefit rider9_decision rider9_phasecode  \n",
       "(M0929, 992, 0)            NaN             NaN              NaN  \n",
       "(M0929, 992, 1)            NaN             NaN              NaN  \n",
       "\n",
       "[2 rows x 27 columns]"
      ]
     },
     "execution_count": 300,
     "metadata": {},
     "output_type": "execute_result"
    }
   ],
   "source": [
    "formatedData"
   ]
  },
  {
   "cell_type": "code",
   "execution_count": 267,
   "metadata": {},
   "outputs": [
    {
     "data": {
      "text/plain": [
       "-0.44141660328113397"
      ]
     },
     "execution_count": 267,
     "metadata": {},
     "output_type": "execute_result"
    }
   ],
   "source": [
    "df = pd.DataFrame(np.random.randn(8, 4), columns=['A','B','C','D'])\n",
    "df['A'][0]"
   ]
  },
  {
   "cell_type": "code",
   "execution_count": 235,
   "metadata": {},
   "outputs": [],
   "source": [
    "s = df.xs(3)\n",
    "s.name = 10"
   ]
  },
  {
   "cell_type": "code",
   "execution_count": 236,
   "metadata": {},
   "outputs": [
    {
     "data": {
      "text/plain": [
       "pandas.core.series.Series"
      ]
     },
     "execution_count": 236,
     "metadata": {},
     "output_type": "execute_result"
    }
   ],
   "source": [
    "type(s)"
   ]
  },
  {
   "cell_type": "code",
   "execution_count": 237,
   "metadata": {},
   "outputs": [
    {
     "data": {
      "text/html": [
       "<div>\n",
       "<style scoped>\n",
       "    .dataframe tbody tr th:only-of-type {\n",
       "        vertical-align: middle;\n",
       "    }\n",
       "\n",
       "    .dataframe tbody tr th {\n",
       "        vertical-align: top;\n",
       "    }\n",
       "\n",
       "    .dataframe thead th {\n",
       "        text-align: right;\n",
       "    }\n",
       "</style>\n",
       "<table border=\"1\" class=\"dataframe\">\n",
       "  <thead>\n",
       "    <tr style=\"text-align: right;\">\n",
       "      <th></th>\n",
       "      <th>A</th>\n",
       "      <th>B</th>\n",
       "      <th>C</th>\n",
       "      <th>D</th>\n",
       "    </tr>\n",
       "  </thead>\n",
       "  <tbody>\n",
       "    <tr>\n",
       "      <th>0</th>\n",
       "      <td>-1.099692</td>\n",
       "      <td>-0.762857</td>\n",
       "      <td>0.948060</td>\n",
       "      <td>0.672159</td>\n",
       "    </tr>\n",
       "    <tr>\n",
       "      <th>1</th>\n",
       "      <td>0.357195</td>\n",
       "      <td>0.385001</td>\n",
       "      <td>-0.100577</td>\n",
       "      <td>-0.240805</td>\n",
       "    </tr>\n",
       "    <tr>\n",
       "      <th>2</th>\n",
       "      <td>-0.544789</td>\n",
       "      <td>1.010348</td>\n",
       "      <td>-0.884272</td>\n",
       "      <td>-0.335039</td>\n",
       "    </tr>\n",
       "    <tr>\n",
       "      <th>3</th>\n",
       "      <td>1.173761</td>\n",
       "      <td>1.847843</td>\n",
       "      <td>-1.510893</td>\n",
       "      <td>-0.849905</td>\n",
       "    </tr>\n",
       "    <tr>\n",
       "      <th>4</th>\n",
       "      <td>-0.916196</td>\n",
       "      <td>0.157785</td>\n",
       "      <td>1.716743</td>\n",
       "      <td>0.003005</td>\n",
       "    </tr>\n",
       "    <tr>\n",
       "      <th>5</th>\n",
       "      <td>-1.488514</td>\n",
       "      <td>0.378322</td>\n",
       "      <td>-1.051193</td>\n",
       "      <td>0.249220</td>\n",
       "    </tr>\n",
       "    <tr>\n",
       "      <th>6</th>\n",
       "      <td>-0.230268</td>\n",
       "      <td>0.470342</td>\n",
       "      <td>0.394191</td>\n",
       "      <td>-0.247089</td>\n",
       "    </tr>\n",
       "    <tr>\n",
       "      <th>7</th>\n",
       "      <td>-1.246809</td>\n",
       "      <td>0.168043</td>\n",
       "      <td>0.499522</td>\n",
       "      <td>-1.629160</td>\n",
       "    </tr>\n",
       "    <tr>\n",
       "      <th>10</th>\n",
       "      <td>1.173761</td>\n",
       "      <td>1.847843</td>\n",
       "      <td>-1.510893</td>\n",
       "      <td>-0.849905</td>\n",
       "    </tr>\n",
       "  </tbody>\n",
       "</table>\n",
       "</div>"
      ],
      "text/plain": [
       "           A         B         C         D\n",
       "0  -1.099692 -0.762857  0.948060  0.672159\n",
       "1   0.357195  0.385001 -0.100577 -0.240805\n",
       "2  -0.544789  1.010348 -0.884272 -0.335039\n",
       "3   1.173761  1.847843 -1.510893 -0.849905\n",
       "4  -0.916196  0.157785  1.716743  0.003005\n",
       "5  -1.488514  0.378322 -1.051193  0.249220\n",
       "6  -0.230268  0.470342  0.394191 -0.247089\n",
       "7  -1.246809  0.168043  0.499522 -1.629160\n",
       "10  1.173761  1.847843 -1.510893 -0.849905"
      ]
     },
     "execution_count": 237,
     "metadata": {},
     "output_type": "execute_result"
    }
   ],
   "source": [
    "df.append(s)"
   ]
  },
  {
   "cell_type": "code",
   "execution_count": 1,
   "metadata": {},
   "outputs": [],
   "source": [
    "import nltk"
   ]
  },
  {
   "cell_type": "code",
   "execution_count": 3,
   "metadata": {},
   "outputs": [
    {
     "data": {
      "text/plain": [
       "'3.3'"
      ]
     },
     "execution_count": 3,
     "metadata": {},
     "output_type": "execute_result"
    }
   ],
   "source": [
    "nltk.__version__"
   ]
  },
  {
   "cell_type": "code",
   "execution_count": 4,
   "metadata": {},
   "outputs": [],
   "source": [
    "import wordcloud"
   ]
  },
  {
   "cell_type": "code",
   "execution_count": 5,
   "metadata": {},
   "outputs": [
    {
     "data": {
      "text/plain": [
       "'1.4.1'"
      ]
     },
     "execution_count": 5,
     "metadata": {},
     "output_type": "execute_result"
    }
   ],
   "source": [
    "wordcloud.__version__"
   ]
  },
  {
   "cell_type": "code",
   "execution_count": null,
   "metadata": {},
   "outputs": [],
   "source": []
  }
 ],
 "metadata": {
  "kernelspec": {
   "display_name": "Python 3",
   "language": "python",
   "name": "python3"
  },
  "language_info": {
   "codemirror_mode": {
    "name": "ipython",
    "version": 3
   },
   "file_extension": ".py",
   "mimetype": "text/x-python",
   "name": "python",
   "nbconvert_exporter": "python",
   "pygments_lexer": "ipython3",
   "version": "3.6.5"
  }
 },
 "nbformat": 4,
 "nbformat_minor": 2
}
